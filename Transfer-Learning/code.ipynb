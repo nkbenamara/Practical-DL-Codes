{
 "cells": [
  {
   "cell_type": "code",
   "execution_count": 1,
   "metadata": {},
   "outputs": [
    {
     "name": "stderr",
     "output_type": "stream",
     "text": [
      "Using TensorFlow backend.\n"
     ]
    }
   ],
   "source": [
    "#Transfer learning code with VGG16 network (Keras)\n",
    "from keras.applications.vgg16 import VGG16, preprocess_input, decode_predictions\n",
    "from keras.models import Input, Sequential\n",
    "from keras.layers import Flatten, Dense, Dropout\n",
    "from keras.preprocessing.image import load_img, img_to_array, ImageDataGenerator\n",
    "from keras.callbacks import EarlyStopping, ModelCheckpoint, ReduceLROnPlateau\n",
    "from keras import optimizers\n",
    "\n",
    "import numpy as np\n",
    "from matplotlib import pyplot as plt\n",
    "from glob import glob"
   ]
  },
  {
   "cell_type": "code",
   "execution_count": 2,
   "metadata": {},
   "outputs": [
    {
     "name": "stdout",
     "output_type": "stream",
     "text": [
      "WARNING:tensorflow:From c:\\Users\\nkben\\AppData\\Local\\Programs\\Python\\Python36\\lib\\site-packages\\keras\\backend\\tensorflow_backend.py:74: The name tf.get_default_graph is deprecated. Please use tf.compat.v1.get_default_graph instead.\n",
      "\n",
      "WARNING:tensorflow:From c:\\Users\\nkben\\AppData\\Local\\Programs\\Python\\Python36\\lib\\site-packages\\keras\\backend\\tensorflow_backend.py:517: The name tf.placeholder is deprecated. Please use tf.compat.v1.placeholder instead.\n",
      "\n",
      "WARNING:tensorflow:From c:\\Users\\nkben\\AppData\\Local\\Programs\\Python\\Python36\\lib\\site-packages\\keras\\backend\\tensorflow_backend.py:4138: The name tf.random_uniform is deprecated. Please use tf.random.uniform instead.\n",
      "\n",
      "WARNING:tensorflow:From c:\\Users\\nkben\\AppData\\Local\\Programs\\Python\\Python36\\lib\\site-packages\\keras\\backend\\tensorflow_backend.py:3976: The name tf.nn.max_pool is deprecated. Please use tf.nn.max_pool2d instead.\n",
      "\n",
      "WARNING:tensorflow:From c:\\Users\\nkben\\AppData\\Local\\Programs\\Python\\Python36\\lib\\site-packages\\keras\\backend\\tensorflow_backend.py:174: The name tf.get_default_session is deprecated. Please use tf.compat.v1.get_default_session instead.\n",
      "\n",
      "WARNING:tensorflow:From c:\\Users\\nkben\\AppData\\Local\\Programs\\Python\\Python36\\lib\\site-packages\\keras\\backend\\tensorflow_backend.py:181: The name tf.ConfigProto is deprecated. Please use tf.compat.v1.ConfigProto instead.\n",
      "\n",
      "WARNING:tensorflow:From c:\\Users\\nkben\\AppData\\Local\\Programs\\Python\\Python36\\lib\\site-packages\\keras\\backend\\tensorflow_backend.py:186: The name tf.Session is deprecated. Please use tf.compat.v1.Session instead.\n",
      "\n",
      "WARNING:tensorflow:From c:\\Users\\nkben\\AppData\\Local\\Programs\\Python\\Python36\\lib\\site-packages\\keras\\backend\\tensorflow_backend.py:190: The name tf.global_variables is deprecated. Please use tf.compat.v1.global_variables instead.\n",
      "\n",
      "WARNING:tensorflow:From c:\\Users\\nkben\\AppData\\Local\\Programs\\Python\\Python36\\lib\\site-packages\\keras\\backend\\tensorflow_backend.py:199: The name tf.is_variable_initialized is deprecated. Please use tf.compat.v1.is_variable_initialized instead.\n",
      "\n",
      "WARNING:tensorflow:From c:\\Users\\nkben\\AppData\\Local\\Programs\\Python\\Python36\\lib\\site-packages\\keras\\backend\\tensorflow_backend.py:206: The name tf.variables_initializer is deprecated. Please use tf.compat.v1.variables_initializer instead.\n",
      "\n",
      "_________________________________________________________________\n",
      "Layer (type)                 Output Shape              Param #   \n",
      "=================================================================\n",
      "input_1 (InputLayer)         (None, 112, 112, 3)       0         \n",
      "_________________________________________________________________\n",
      "block1_conv1 (Conv2D)        (None, 112, 112, 64)      1792      \n",
      "_________________________________________________________________\n",
      "block1_conv2 (Conv2D)        (None, 112, 112, 64)      36928     \n",
      "_________________________________________________________________\n",
      "block1_pool (MaxPooling2D)   (None, 56, 56, 64)        0         \n",
      "_________________________________________________________________\n",
      "block2_conv1 (Conv2D)        (None, 56, 56, 128)       73856     \n",
      "_________________________________________________________________\n",
      "block2_conv2 (Conv2D)        (None, 56, 56, 128)       147584    \n",
      "_________________________________________________________________\n",
      "block2_pool (MaxPooling2D)   (None, 28, 28, 128)       0         \n",
      "_________________________________________________________________\n",
      "block3_conv1 (Conv2D)        (None, 28, 28, 256)       295168    \n",
      "_________________________________________________________________\n",
      "block3_conv2 (Conv2D)        (None, 28, 28, 256)       590080    \n",
      "_________________________________________________________________\n",
      "block3_conv3 (Conv2D)        (None, 28, 28, 256)       590080    \n",
      "_________________________________________________________________\n",
      "block3_pool (MaxPooling2D)   (None, 14, 14, 256)       0         \n",
      "_________________________________________________________________\n",
      "block4_conv1 (Conv2D)        (None, 14, 14, 512)       1180160   \n",
      "_________________________________________________________________\n",
      "block4_conv2 (Conv2D)        (None, 14, 14, 512)       2359808   \n",
      "_________________________________________________________________\n",
      "block4_conv3 (Conv2D)        (None, 14, 14, 512)       2359808   \n",
      "_________________________________________________________________\n",
      "block4_pool (MaxPooling2D)   (None, 7, 7, 512)         0         \n",
      "_________________________________________________________________\n",
      "block5_conv1 (Conv2D)        (None, 7, 7, 512)         2359808   \n",
      "_________________________________________________________________\n",
      "block5_conv2 (Conv2D)        (None, 7, 7, 512)         2359808   \n",
      "_________________________________________________________________\n",
      "block5_conv3 (Conv2D)        (None, 7, 7, 512)         2359808   \n",
      "_________________________________________________________________\n",
      "block5_pool (MaxPooling2D)   (None, 3, 3, 512)         0         \n",
      "=================================================================\n",
      "Total params: 14,714,688\n",
      "Trainable params: 14,714,688\n",
      "Non-trainable params: 0\n",
      "_________________________________________________________________\n"
     ]
    }
   ],
   "source": [
    "#in case of loading VGG16 model without output layer and specify new input shape  [new_input = Input(shape=(112, 112, 3))]\n",
    "#model = VGG16(include_top=False, input_tensor=new_input, pooling='avg') with new input layer and global averaging layer\n",
    "new_input_shape = Input(shape=(112, 112, 3))\n",
    "trainable_model = VGG16(include_top=False,input_tensor=new_input_shape) \n",
    "trainable_model.summary()"
   ]
  },
  {
   "cell_type": "code",
   "execution_count": 3,
   "metadata": {},
   "outputs": [
    {
     "name": "stdout",
     "output_type": "stream",
     "text": [
      "<keras.engine.input_layer.InputLayer object at 0x000001CCB420FD68> False\n",
      "<keras.layers.convolutional.Conv2D object at 0x000001CCB420FDA0> False\n",
      "<keras.layers.convolutional.Conv2D object at 0x000001CC8AE44780> False\n",
      "<keras.layers.pooling.MaxPooling2D object at 0x000001CC8AE80A20> False\n",
      "<keras.layers.convolutional.Conv2D object at 0x000001CC8AE8CEF0> False\n",
      "<keras.layers.convolutional.Conv2D object at 0x000001CC8AE92EF0> False\n",
      "<keras.layers.pooling.MaxPooling2D object at 0x000001CC8AE9ADA0> False\n",
      "<keras.layers.convolutional.Conv2D object at 0x000001CC8AEA2C50> False\n",
      "<keras.layers.convolutional.Conv2D object at 0x000001CC8AEA94A8> False\n",
      "<keras.layers.convolutional.Conv2D object at 0x000001CC8AEB0518> False\n",
      "<keras.layers.pooling.MaxPooling2D object at 0x000001CC8AEB7CC0> False\n",
      "<keras.layers.convolutional.Conv2D object at 0x000001CC8AEC07B8> False\n",
      "<keras.layers.convolutional.Conv2D object at 0x000001CC8AEC3390> False\n",
      "<keras.layers.convolutional.Conv2D object at 0x000001CC8AECE208> False\n",
      "<keras.layers.pooling.MaxPooling2D object at 0x000001CC8AED4BA8> False\n",
      "<keras.layers.convolutional.Conv2D object at 0x000001CC8AEDFA58> False\n",
      "<keras.layers.convolutional.Conv2D object at 0x000001CC8AED52E8> False\n",
      "<keras.layers.convolutional.Conv2D object at 0x000001CC8AEEC080> False\n",
      "<keras.layers.pooling.MaxPooling2D object at 0x000001CC8AEF0A58> False\n"
     ]
    }
   ],
   "source": [
    "# Freeze all the layers\n",
    "for layer in trainable_model.layers[:]:\n",
    "    layer.trainable = False\n",
    "\n",
    "# Check the trainable status of the individual layers\n",
    "for layer in trainable_model.layers:\n",
    "    print(layer, layer.trainable)\n"
   ]
  },
  {
   "cell_type": "code",
   "execution_count": 4,
   "metadata": {},
   "outputs": [
    {
     "name": "stdout",
     "output_type": "stream",
     "text": [
      "WARNING:tensorflow:From c:\\Users\\nkben\\AppData\\Local\\Programs\\Python\\Python36\\lib\\site-packages\\keras\\backend\\tensorflow_backend.py:133: The name tf.placeholder_with_default is deprecated. Please use tf.compat.v1.placeholder_with_default instead.\n",
      "\n",
      "WARNING:tensorflow:From c:\\Users\\nkben\\AppData\\Local\\Programs\\Python\\Python36\\lib\\site-packages\\keras\\backend\\tensorflow_backend.py:3445: calling dropout (from tensorflow.python.ops.nn_ops) with keep_prob is deprecated and will be removed in a future version.\n",
      "Instructions for updating:\n",
      "Please use `rate` instead of `keep_prob`. Rate should be set to `rate = 1 - keep_prob`.\n",
      "_________________________________________________________________\n",
      "Layer (type)                 Output Shape              Param #   \n",
      "=================================================================\n",
      "vgg16 (Model)                (None, 3, 3, 512)         14714688  \n",
      "_________________________________________________________________\n",
      "flatten_1 (Flatten)          (None, 4608)              0         \n",
      "_________________________________________________________________\n",
      "dense_1 (Dense)              (None, 1024)              4719616   \n",
      "_________________________________________________________________\n",
      "dropout_1 (Dropout)          (None, 1024)              0         \n",
      "_________________________________________________________________\n",
      "dense_2 (Dense)              (None, 10)                10250     \n",
      "=================================================================\n",
      "Total params: 19,444,554\n",
      "Trainable params: 4,729,866\n",
      "Non-trainable params: 14,714,688\n",
      "_________________________________________________________________\n"
     ]
    }
   ],
   "source": [
    "# Add the custom last layers to retrain\n",
    "custom_model = Sequential()\n",
    "custom_model.add(trainable_model)\n",
    "custom_model.add(Flatten())\n",
    "custom_model.add(Dense(1024, activation='relu'))\n",
    "custom_model.add(Dropout(0.5))\n",
    "custom_model.add(Dense(10, activation='softmax'))\n",
    "custom_model.summary()"
   ]
  },
  {
   "cell_type": "code",
   "execution_count": 5,
   "metadata": {},
   "outputs": [
    {
     "name": "stdout",
     "output_type": "stream",
     "text": [
      "Found 11300 images belonging to 10 classes.\n",
      "Found 2000 images belonging to 10 classes.\n"
     ]
    }
   ],
   "source": [
    "# Load the normalized images\n",
    "train_datagen = ImageDataGenerator(rescale=1./255)\n",
    "validation_datagen = ImageDataGenerator(rescale=1./255)\n",
    "\n",
    "train_dir=\"./animal_dataset/train/\"\n",
    "validation_dir=\"./animal_dataset/validation/\"\n",
    "image_size=112\n",
    "\n",
    "# Change the batchsize according to your system RAM\n",
    "train_batchsize = 100\n",
    "val_batchsize = 10\n",
    "\n",
    "# Data generator for training data\n",
    "train_generator = train_datagen.flow_from_directory(train_dir, target_size=(image_size, image_size),batch_size=train_batchsize,class_mode='categorical')\n",
    "\n",
    "# Data generator for validation data\n",
    "validation_generator = validation_datagen.flow_from_directory(validation_dir,target_size=(image_size, image_size),batch_size=val_batchsize,class_mode='categorical', shuffle=False)\n"
   ]
  },
  {
   "cell_type": "code",
   "execution_count": 6,
   "metadata": {},
   "outputs": [
    {
     "name": "stdout",
     "output_type": "stream",
     "text": [
      "WARNING:tensorflow:From c:\\Users\\nkben\\AppData\\Local\\Programs\\Python\\Python36\\lib\\site-packages\\keras\\optimizers.py:790: The name tf.train.Optimizer is deprecated. Please use tf.compat.v1.train.Optimizer instead.\n",
      "\n",
      "WARNING:tensorflow:From c:\\Users\\nkben\\AppData\\Local\\Programs\\Python\\Python36\\lib\\site-packages\\keras\\backend\\tensorflow_backend.py:3295: The name tf.log is deprecated. Please use tf.math.log instead.\n",
      "\n",
      "WARNING:tensorflow:From c:\\Users\\nkben\\AppData\\Local\\Programs\\Python\\Python36\\lib\\site-packages\\tensorflow_core\\python\\ops\\math_grad.py:1424: where (from tensorflow.python.ops.array_ops) is deprecated and will be removed in a future version.\n",
      "Instructions for updating:\n",
      "Use tf.where in 2.0, which has the same broadcast rule as np.where\n",
      "WARNING:tensorflow:From c:\\Users\\nkben\\AppData\\Local\\Programs\\Python\\Python36\\lib\\site-packages\\keras\\backend\\tensorflow_backend.py:986: The name tf.assign_add is deprecated. Please use tf.compat.v1.assign_add instead.\n",
      "\n",
      "WARNING:tensorflow:From c:\\Users\\nkben\\AppData\\Local\\Programs\\Python\\Python36\\lib\\site-packages\\keras\\backend\\tensorflow_backend.py:973: The name tf.assign is deprecated. Please use tf.compat.v1.assign instead.\n",
      "\n",
      "Epoch 1/100\n",
      "113/113 [==============================] - 47s 420ms/step - loss: 1.4677 - acc: 0.4940 - val_loss: 1.0991 - val_acc: 0.6325\n",
      "\n",
      "Epoch 00001: val_loss improved from inf to 1.09912, saving model to ./saved_weights/best_animal_model.h5\n",
      "Epoch 2/100\n",
      "113/113 [==============================] - 43s 383ms/step - loss: 1.0224 - acc: 0.6566 - val_loss: 0.9393 - val_acc: 0.6935\n",
      "\n",
      "Epoch 00002: val_loss improved from 1.09912 to 0.93927, saving model to ./saved_weights/best_animal_model.h5\n",
      "Epoch 3/100\n",
      "113/113 [==============================] - 43s 381ms/step - loss: 0.8768 - acc: 0.7067 - val_loss: 0.8649 - val_acc: 0.6995\n",
      "\n",
      "Epoch 00003: val_loss improved from 0.93927 to 0.86492, saving model to ./saved_weights/best_animal_model.h5\n",
      "Epoch 4/100\n",
      "113/113 [==============================] - 43s 380ms/step - loss: 0.7780 - acc: 0.7428 - val_loss: 0.8302 - val_acc: 0.7115\n",
      "\n",
      "Epoch 00004: val_loss improved from 0.86492 to 0.83019, saving model to ./saved_weights/best_animal_model.h5\n",
      "Epoch 5/100\n",
      "113/113 [==============================] - 43s 381ms/step - loss: 0.7148 - acc: 0.7638 - val_loss: 0.7909 - val_acc: 0.7300\n",
      "\n",
      "Epoch 00005: val_loss improved from 0.83019 to 0.79091, saving model to ./saved_weights/best_animal_model.h5\n",
      "Epoch 6/100\n",
      "113/113 [==============================] - 43s 381ms/step - loss: 0.6501 - acc: 0.7831 - val_loss: 0.7799 - val_acc: 0.7395\n",
      "\n",
      "Epoch 00006: val_loss improved from 0.79091 to 0.77985, saving model to ./saved_weights/best_animal_model.h5\n",
      "Epoch 7/100\n",
      "113/113 [==============================] - 43s 382ms/step - loss: 0.5980 - acc: 0.8043 - val_loss: 0.7583 - val_acc: 0.7430\n",
      "\n",
      "Epoch 00007: val_loss improved from 0.77985 to 0.75833, saving model to ./saved_weights/best_animal_model.h5\n",
      "Epoch 8/100\n",
      "113/113 [==============================] - 43s 382ms/step - loss: 0.5618 - acc: 0.8131 - val_loss: 0.7559 - val_acc: 0.7375\n",
      "\n",
      "Epoch 00008: val_loss improved from 0.75833 to 0.75589, saving model to ./saved_weights/best_animal_model.h5\n",
      "Epoch 9/100\n",
      "113/113 [==============================] - 43s 383ms/step - loss: 0.5162 - acc: 0.8348 - val_loss: 0.7477 - val_acc: 0.7430\n",
      "\n",
      "Epoch 00009: val_loss improved from 0.75589 to 0.74772, saving model to ./saved_weights/best_animal_model.h5\n",
      "Epoch 10/100\n",
      "113/113 [==============================] - 43s 383ms/step - loss: 0.4775 - acc: 0.8477 - val_loss: 0.7515 - val_acc: 0.7455\n",
      "\n",
      "Epoch 00010: val_loss did not improve from 0.74772\n",
      "Epoch 11/100\n",
      "113/113 [==============================] - 43s 380ms/step - loss: 0.4514 - acc: 0.8571 - val_loss: 0.7690 - val_acc: 0.7385\n",
      "\n",
      "Epoch 00011: val_loss did not improve from 0.74772\n",
      "Epoch 12/100\n",
      "113/113 [==============================] - 43s 380ms/step - loss: 0.4153 - acc: 0.8704 - val_loss: 0.7597 - val_acc: 0.7445\n",
      "\n",
      "Epoch 00012: ReduceLROnPlateau reducing learning rate to 8.999999772640876e-05.\n",
      "\n",
      "Epoch 00012: val_loss did not improve from 0.74772\n",
      "Epoch 13/100\n",
      "113/113 [==============================] - 43s 380ms/step - loss: 0.3822 - acc: 0.8821 - val_loss: 0.7576 - val_acc: 0.7480\n",
      "\n",
      "Epoch 00013: val_loss did not improve from 0.74772\n",
      "Epoch 14/100\n",
      "113/113 [==============================] - 43s 380ms/step - loss: 0.3616 - acc: 0.8873 - val_loss: 0.7502 - val_acc: 0.7570\n",
      "\n",
      "Epoch 00014: val_loss did not improve from 0.74772\n",
      "Epoch 00014: early stopping\n"
     ]
    }
   ],
   "source": [
    "# Configure the model for training\n",
    "custom_model.compile(loss='categorical_crossentropy',\n",
    "              optimizer=optimizers.RMSprop(lr=1e-4),\n",
    "              metrics=['acc'])\n",
    "\n",
    "# Define callbacks\n",
    "lr_reducer = ReduceLROnPlateau(monitor='val_loss', factor=0.9, patience=3, verbose=1)\n",
    "early_stopper = EarlyStopping(monitor='val_loss', min_delta=0, patience=5, verbose=1, mode='auto')\n",
    "checkpoint = ModelCheckpoint(filepath='./saved_weights/best_animal_model.h5', monitor='val_loss', verbose=1, save_weights_only=True, save_best_only=True, mode='auto', period=1)\n",
    "\n",
    "# Train the model\n",
    "history = custom_model.fit_generator(\n",
    "      train_generator,\n",
    "      steps_per_epoch=\n",
    "         train_generator.samples/train_generator.batch_size,\n",
    "      epochs=100,\n",
    "      validation_data=validation_generator, \n",
    "      validation_steps=\n",
    "         validation_generator.samples/validation_generator.batch_size,\n",
    "      verbose=1, callbacks=[lr_reducer, early_stopper, checkpoint])"
   ]
  },
  {
   "cell_type": "code",
   "execution_count": 15,
   "metadata": {},
   "outputs": [
    {
     "data": {
      "image/png": "[encoded data removed]",
      "text/plain": [
       "<Figure size 432x288 with 1 Axes>"
      ]
     },
     "metadata": {
      "needs_background": "light"
     },
     "output_type": "display_data"
    },
    {
     "data": {
      "image/png": "[encoded data removed]",
      "text/plain": [
       "<Figure size 432x288 with 1 Axes>"
      ]
     },
     "metadata": {
      "needs_background": "light"
     },
     "output_type": "display_data"
    }
   ],
   "source": [
    "# Utility function for plotting of the model results\n",
    "def visualize_results(history):\n",
    "    # Plot the accuracy and loss curves\n",
    "    acc = history.history['acc']\n",
    "    val_acc = history.history['val_acc']\n",
    "    loss = history.history['loss']\n",
    "    val_loss = history.history['val_loss']\n",
    "\n",
    "    epochs = range(len(acc))\n",
    "\n",
    "    plt.plot(epochs, acc, 'b', label='Training acc')\n",
    "    plt.plot(epochs, val_acc, 'r', label='Validation acc')\n",
    "    plt.title('Training and validation accuracy')\n",
    "    plt.legend()\n",
    "\n",
    "    plt.figure()\n",
    "\n",
    "    plt.plot(epochs, loss, 'b', label='Training loss')\n",
    "    plt.plot(epochs, val_loss, 'r', label='Validation loss')\n",
    "    plt.title('Training and validation loss')\n",
    "    plt.legend()\n",
    "\n",
    "    plt.show()\n",
    "\n",
    "\n",
    "# Run the function to illustrate accuracy and loss\n",
    "visualize_results(history)\n",
    "\n",
    "# Save History Training\n",
    "np.save('./saved_weights/training_history_best_animal_model.npy', history.history)\n",
    "\n",
    "# To load History Training later on\n",
    "#loaded_history = np.load('./saved_weights/training_history_best_animal_model.npy', allow_pickle=True)"
   ]
  },
  {
   "cell_type": "code",
   "execution_count": null,
   "metadata": {},
   "outputs": [],
   "source": []
  }
 ],
 "metadata": {
  "kernelspec": {
   "display_name": "Python 3.6.5 64-bit",
   "language": "python",
   "name": "python3"
  },
  "language_info": {
   "codemirror_mode": {
    "name": "ipython",
    "version": 3
   },
   "file_extension": ".py",
   "mimetype": "text/x-python",
   "name": "python",
   "nbconvert_exporter": "python",
   "pygments_lexer": "ipython3",
   "version": "3.6.5"
  },
  "orig_nbformat": 4,
  "vscode": {
   "interpreter": {
    "hash": "c802b2aa774686bb15469a9b241728c890917b02545741809903e231d02512fd"
   }
  }
 },
 "nbformat": 4,
 "nbformat_minor": 2
}
